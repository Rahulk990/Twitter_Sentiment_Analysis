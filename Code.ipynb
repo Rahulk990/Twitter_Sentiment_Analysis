{
 "cells": [
  {
   "cell_type": "markdown",
   "metadata": {
    "id": "nlxPmBU0x47v"
   },
   "source": [
    "## **1)** **Loading Dataset** from Google Drive"
   ]
  },
  {
   "cell_type": "code",
   "execution_count": null,
   "metadata": {
    "colab": {
     "base_uri": "https://localhost:8080/"
    },
    "id": "3EflsJDBw9HS",
    "outputId": "8e2ad668-6f00-49db-d8c7-722c6af90ab6"
   },
   "outputs": [
    {
     "name": "stdout",
     "output_type": "stream",
     "text": [
      "Drive already mounted at /content/gdrive; to attempt to forcibly remount, call drive.mount(\"/content/gdrive\", force_remount=True).\n"
     ]
    }
   ],
   "source": [
    "from google.colab import drive\n",
    "drive.mount('/content/gdrive')"
   ]
  },
  {
   "cell_type": "code",
   "execution_count": null,
   "metadata": {
    "colab": {
     "base_uri": "https://localhost:8080/"
    },
    "id": "GjuLPkEpx8Hs",
    "outputId": "59144e64-e1aa-4987-bd51-e7afd20a8f72"
   },
   "outputs": [
    {
     "name": "stdout",
     "output_type": "stream",
     "text": [
      "Size:  1600000\n"
     ]
    },
    {
     "data": {
      "text/html": [
       "<div>\n",
       "<style scoped>\n",
       "    .dataframe tbody tr th:only-of-type {\n",
       "        vertical-align: middle;\n",
       "    }\n",
       "\n",
       "    .dataframe tbody tr th {\n",
       "        vertical-align: top;\n",
       "    }\n",
       "\n",
       "    .dataframe thead th {\n",
       "        text-align: right;\n",
       "    }\n",
       "</style>\n",
       "<table border=\"1\" class=\"dataframe\">\n",
       "  <thead>\n",
       "    <tr style=\"text-align: right;\">\n",
       "      <th></th>\n",
       "      <th>target</th>\n",
       "      <th>ids</th>\n",
       "      <th>date</th>\n",
       "      <th>flag</th>\n",
       "      <th>user</th>\n",
       "      <th>text</th>\n",
       "    </tr>\n",
       "  </thead>\n",
       "  <tbody>\n",
       "    <tr>\n",
       "      <th>0</th>\n",
       "      <td>0</td>\n",
       "      <td>1467810369</td>\n",
       "      <td>Mon Apr 06 22:19:45 PDT 2009</td>\n",
       "      <td>NO_QUERY</td>\n",
       "      <td>_TheSpecialOne_</td>\n",
       "      <td>@switchfoot http://twitpic.com/2y1zl - Awww, t...</td>\n",
       "    </tr>\n",
       "    <tr>\n",
       "      <th>1</th>\n",
       "      <td>0</td>\n",
       "      <td>1467810672</td>\n",
       "      <td>Mon Apr 06 22:19:49 PDT 2009</td>\n",
       "      <td>NO_QUERY</td>\n",
       "      <td>scotthamilton</td>\n",
       "      <td>is upset that he can't update his Facebook by ...</td>\n",
       "    </tr>\n",
       "    <tr>\n",
       "      <th>2</th>\n",
       "      <td>0</td>\n",
       "      <td>1467810917</td>\n",
       "      <td>Mon Apr 06 22:19:53 PDT 2009</td>\n",
       "      <td>NO_QUERY</td>\n",
       "      <td>mattycus</td>\n",
       "      <td>@Kenichan I dived many times for the ball. Man...</td>\n",
       "    </tr>\n",
       "    <tr>\n",
       "      <th>3</th>\n",
       "      <td>0</td>\n",
       "      <td>1467811184</td>\n",
       "      <td>Mon Apr 06 22:19:57 PDT 2009</td>\n",
       "      <td>NO_QUERY</td>\n",
       "      <td>ElleCTF</td>\n",
       "      <td>my whole body feels itchy and like its on fire</td>\n",
       "    </tr>\n",
       "    <tr>\n",
       "      <th>4</th>\n",
       "      <td>0</td>\n",
       "      <td>1467811193</td>\n",
       "      <td>Mon Apr 06 22:19:57 PDT 2009</td>\n",
       "      <td>NO_QUERY</td>\n",
       "      <td>Karoli</td>\n",
       "      <td>@nationwideclass no, it's not behaving at all....</td>\n",
       "    </tr>\n",
       "  </tbody>\n",
       "</table>\n",
       "</div>"
      ],
      "text/plain": [
       "   target  ...                                               text\n",
       "0       0  ...  @switchfoot http://twitpic.com/2y1zl - Awww, t...\n",
       "1       0  ...  is upset that he can't update his Facebook by ...\n",
       "2       0  ...  @Kenichan I dived many times for the ball. Man...\n",
       "3       0  ...    my whole body feels itchy and like its on fire \n",
       "4       0  ...  @nationwideclass no, it's not behaving at all....\n",
       "\n",
       "[5 rows x 6 columns]"
      ]
     },
     "execution_count": 2,
     "metadata": {
      "tags": []
     },
     "output_type": "execute_result"
    }
   ],
   "source": [
    "import numpy as np\n",
    "import pandas as pd\n",
    "\n",
    "# Importing the Data file\n",
    "DATASET_ENCODING = \"ISO-8859-1\"\n",
    "DATASET_COLUMNS = [\"target\", \"ids\", \"date\", \"flag\", \"user\", \"text\"]\n",
    "data = pd.read_csv('/content/gdrive/MyDrive/TSA/dataset.csv', encoding =DATASET_ENCODING , names=DATASET_COLUMNS)\n",
    "\n",
    "# Preview Data\n",
    "print(\"Size: \", len(data))\n",
    "data.head()"
   ]
  },
  {
   "cell_type": "code",
   "execution_count": null,
   "metadata": {
    "colab": {
     "base_uri": "https://localhost:8080/"
    },
    "id": "peMHKaI9y7QM",
    "outputId": "dac199ae-12d1-45f7-fdfb-fe2cc1be1393"
   },
   "outputs": [
    {
     "data": {
      "text/html": [
       "<div>\n",
       "<style scoped>\n",
       "    .dataframe tbody tr th:only-of-type {\n",
       "        vertical-align: middle;\n",
       "    }\n",
       "\n",
       "    .dataframe tbody tr th {\n",
       "        vertical-align: top;\n",
       "    }\n",
       "\n",
       "    .dataframe thead th {\n",
       "        text-align: right;\n",
       "    }\n",
       "</style>\n",
       "<table border=\"1\" class=\"dataframe\">\n",
       "  <thead>\n",
       "    <tr style=\"text-align: right;\">\n",
       "      <th></th>\n",
       "      <th>target</th>\n",
       "      <th>ids</th>\n",
       "      <th>date</th>\n",
       "      <th>flag</th>\n",
       "      <th>user</th>\n",
       "      <th>text</th>\n",
       "    </tr>\n",
       "  </thead>\n",
       "  <tbody>\n",
       "    <tr>\n",
       "      <th>0</th>\n",
       "      <td>Negative</td>\n",
       "      <td>1467810369</td>\n",
       "      <td>Mon Apr 06 22:19:45 PDT 2009</td>\n",
       "      <td>NO_QUERY</td>\n",
       "      <td>_TheSpecialOne_</td>\n",
       "      <td>@switchfoot http://twitpic.com/2y1zl - Awww, t...</td>\n",
       "    </tr>\n",
       "    <tr>\n",
       "      <th>1</th>\n",
       "      <td>Negative</td>\n",
       "      <td>1467810672</td>\n",
       "      <td>Mon Apr 06 22:19:49 PDT 2009</td>\n",
       "      <td>NO_QUERY</td>\n",
       "      <td>scotthamilton</td>\n",
       "      <td>is upset that he can't update his Facebook by ...</td>\n",
       "    </tr>\n",
       "    <tr>\n",
       "      <th>2</th>\n",
       "      <td>Negative</td>\n",
       "      <td>1467810917</td>\n",
       "      <td>Mon Apr 06 22:19:53 PDT 2009</td>\n",
       "      <td>NO_QUERY</td>\n",
       "      <td>mattycus</td>\n",
       "      <td>@Kenichan I dived many times for the ball. Man...</td>\n",
       "    </tr>\n",
       "    <tr>\n",
       "      <th>3</th>\n",
       "      <td>Negative</td>\n",
       "      <td>1467811184</td>\n",
       "      <td>Mon Apr 06 22:19:57 PDT 2009</td>\n",
       "      <td>NO_QUERY</td>\n",
       "      <td>ElleCTF</td>\n",
       "      <td>my whole body feels itchy and like its on fire</td>\n",
       "    </tr>\n",
       "    <tr>\n",
       "      <th>4</th>\n",
       "      <td>Negative</td>\n",
       "      <td>1467811193</td>\n",
       "      <td>Mon Apr 06 22:19:57 PDT 2009</td>\n",
       "      <td>NO_QUERY</td>\n",
       "      <td>Karoli</td>\n",
       "      <td>@nationwideclass no, it's not behaving at all....</td>\n",
       "    </tr>\n",
       "  </tbody>\n",
       "</table>\n",
       "</div>"
      ],
      "text/plain": [
       "     target  ...                                               text\n",
       "0  Negative  ...  @switchfoot http://twitpic.com/2y1zl - Awww, t...\n",
       "1  Negative  ...  is upset that he can't update his Facebook by ...\n",
       "2  Negative  ...  @Kenichan I dived many times for the ball. Man...\n",
       "3  Negative  ...    my whole body feels itchy and like its on fire \n",
       "4  Negative  ...  @nationwideclass no, it's not behaving at all....\n",
       "\n",
       "[5 rows x 6 columns]"
      ]
     },
     "execution_count": 3,
     "metadata": {
      "tags": []
     },
     "output_type": "execute_result"
    }
   ],
   "source": [
    "# Mapping Targets to String\n",
    "decode = {0: 'Negative', 4: 'Positive'}\n",
    "data.target = data.target.apply(lambda x: decode[int(x)])\n",
    "\n",
    "# Preview Data\n",
    "data.head()"
   ]
  },
  {
   "cell_type": "code",
   "execution_count": null,
   "metadata": {
    "colab": {
     "base_uri": "https://localhost:8080/"
    },
    "id": "TIBmest4y6CF",
    "outputId": "ca0428c8-711a-46fd-fe61-17b4113eee33"
   },
   "outputs": [
    {
     "name": "stdout",
     "output_type": "stream",
     "text": [
      "(800000, 6)\n",
      "(800000, 6)\n"
     ]
    },
    {
     "data": {
      "text/plain": [
       "<matplotlib.axes._subplots.AxesSubplot at 0x7fca23197890>"
      ]
     },
     "execution_count": 4,
     "metadata": {
      "tags": []
     },
     "output_type": "execute_result"
    },
    {
     "data": {
      "image/png": "[encoded data removed]",
      "text/plain": [
       "<Figure size 432x288 with 1 Axes>"
      ]
     },
     "metadata": {
      "needs_background": "light",
      "tags": []
     },
     "output_type": "display_data"
    }
   ],
   "source": [
    "# Visualize the Samples\n",
    "print(data[data['target']=='Negative'].shape)\n",
    "print(data[data['target']=='Positive'].shape)\n",
    "\n",
    "# Plotting Graph\n",
    "data.target.value_counts().plot.bar()"
   ]
  },
  {
   "cell_type": "code",
   "execution_count": null,
   "metadata": {
    "colab": {
     "base_uri": "https://localhost:8080/"
    },
    "id": "wVPxXnJfzhLa",
    "outputId": "bce49717-85ee-486f-9c8f-64dd3acc8cba"
   },
   "outputs": [
    {
     "data": {
      "image/png": "[encoded data removed]",
      "text/plain": [
       "<Figure size 432x288 with 1 Axes>"
      ]
     },
     "metadata": {
      "needs_background": "light",
      "tags": []
     },
     "output_type": "display_data"
    },
    {
     "data": {
      "text/plain": [
       "count    1.600000e+06\n",
       "mean     7.409011e+01\n",
       "std      3.644114e+01\n",
       "min      6.000000e+00\n",
       "25%      4.400000e+01\n",
       "50%      6.900000e+01\n",
       "75%      1.040000e+02\n",
       "max      3.740000e+02\n",
       "dtype: float64"
      ]
     },
     "execution_count": 5,
     "metadata": {
      "tags": []
     },
     "output_type": "execute_result"
    }
   ],
   "source": [
    "import matplotlib.pyplot as plt\n",
    "%matplotlib inline\n",
    "\n",
    "# Analyzing Tweet Lengths\n",
    "reviews = [len(x) for x in data['text']]\n",
    "pd.Series(reviews).hist()\n",
    "plt.show()\n",
    "\n",
    "# Summarizing the Analysis\n",
    "pd.Series(reviews).describe()"
   ]
  },
  {
   "cell_type": "markdown",
   "metadata": {
    "id": "2K5tDQ6Q0ZN9"
   },
   "source": [
    "## **2) Data Preprocessing**"
   ]
  },
  {
   "cell_type": "markdown",
   "metadata": {
    "id": "oZ2yq9Nf054F"
   },
   "source": [
    "### Cleaning Text Data"
   ]
  },
  {
   "cell_type": "code",
   "execution_count": null,
   "metadata": {
    "colab": {
     "base_uri": "https://localhost:8080/"
    },
    "id": "qALgzVTY0CIi",
    "outputId": "824bf378-16bb-4849-a42b-c88cd4a9975f"
   },
   "outputs": [
    {
     "name": "stdout",
     "output_type": "stream",
     "text": [
      "[nltk_data] Downloading package stopwords to /root/nltk_data...\n",
      "[nltk_data]   Package stopwords is already up-to-date!\n"
     ]
    }
   ],
   "source": [
    "import re\n",
    "import nltk\n",
    "from nltk.corpus import stopwords\n",
    "from nltk.stem import SnowballStemmer\n",
    "\n",
    "# Removing Stopwords\n",
    "nltk.download('stopwords')\n",
    "stop_words = stopwords.words(\"english\")\n",
    "\n",
    "# Stemming text data\n",
    "stemmer = SnowballStemmer(\"english\")\n",
    "\n",
    "# Removing Links, Users and Other Characters\n",
    "regex = \"@\\S+|https?:\\S+|http?:\\S|[^A-Za-z0-9]+\""
   ]
  },
  {
   "cell_type": "code",
   "execution_count": null,
   "metadata": {
    "id": "MdsBKByO1lc0"
   },
   "outputs": [],
   "source": [
    "# Defining Cleaner Function\n",
    "def cleaner(text, stem=False):\n",
    "    text = re.sub(regex, ' ', str(text).lower()).strip()\n",
    "    tokens = []\n",
    "    for token in text.split():\n",
    "        if token not in stop_words:\n",
    "            if stem:\n",
    "                tokens.append(stemmer.stem(token))\n",
    "            else:\n",
    "                tokens.append(token)\n",
    "    return \" \".join(tokens)"
   ]
  },
  {
   "cell_type": "code",
   "execution_count": null,
   "metadata": {
    "colab": {
     "base_uri": "https://localhost:8080/"
    },
    "id": "xYC2kT9P2Lg8",
    "outputId": "17fc36d4-358f-498d-cc69-27e6186a3fc9"
   },
   "outputs": [
    {
     "data": {
      "text/html": [
       "<div>\n",
       "<style scoped>\n",
       "    .dataframe tbody tr th:only-of-type {\n",
       "        vertical-align: middle;\n",
       "    }\n",
       "\n",
       "    .dataframe tbody tr th {\n",
       "        vertical-align: top;\n",
       "    }\n",
       "\n",
       "    .dataframe thead th {\n",
       "        text-align: right;\n",
       "    }\n",
       "</style>\n",
       "<table border=\"1\" class=\"dataframe\">\n",
       "  <thead>\n",
       "    <tr style=\"text-align: right;\">\n",
       "      <th></th>\n",
       "      <th>target</th>\n",
       "      <th>ids</th>\n",
       "      <th>date</th>\n",
       "      <th>flag</th>\n",
       "      <th>user</th>\n",
       "      <th>text</th>\n",
       "    </tr>\n",
       "  </thead>\n",
       "  <tbody>\n",
       "    <tr>\n",
       "      <th>0</th>\n",
       "      <td>Negative</td>\n",
       "      <td>1467810369</td>\n",
       "      <td>Mon Apr 06 22:19:45 PDT 2009</td>\n",
       "      <td>NO_QUERY</td>\n",
       "      <td>_TheSpecialOne_</td>\n",
       "      <td>awww bummer shoulda got david carr third day</td>\n",
       "    </tr>\n",
       "    <tr>\n",
       "      <th>1</th>\n",
       "      <td>Negative</td>\n",
       "      <td>1467810672</td>\n",
       "      <td>Mon Apr 06 22:19:49 PDT 2009</td>\n",
       "      <td>NO_QUERY</td>\n",
       "      <td>scotthamilton</td>\n",
       "      <td>upset update facebook texting might cry result...</td>\n",
       "    </tr>\n",
       "    <tr>\n",
       "      <th>2</th>\n",
       "      <td>Negative</td>\n",
       "      <td>1467810917</td>\n",
       "      <td>Mon Apr 06 22:19:53 PDT 2009</td>\n",
       "      <td>NO_QUERY</td>\n",
       "      <td>mattycus</td>\n",
       "      <td>dived many times ball managed save 50 rest go ...</td>\n",
       "    </tr>\n",
       "    <tr>\n",
       "      <th>3</th>\n",
       "      <td>Negative</td>\n",
       "      <td>1467811184</td>\n",
       "      <td>Mon Apr 06 22:19:57 PDT 2009</td>\n",
       "      <td>NO_QUERY</td>\n",
       "      <td>ElleCTF</td>\n",
       "      <td>whole body feels itchy like fire</td>\n",
       "    </tr>\n",
       "    <tr>\n",
       "      <th>4</th>\n",
       "      <td>Negative</td>\n",
       "      <td>1467811193</td>\n",
       "      <td>Mon Apr 06 22:19:57 PDT 2009</td>\n",
       "      <td>NO_QUERY</td>\n",
       "      <td>Karoli</td>\n",
       "      <td>behaving mad see</td>\n",
       "    </tr>\n",
       "  </tbody>\n",
       "</table>\n",
       "</div>"
      ],
      "text/plain": [
       "     target  ...                                               text\n",
       "0  Negative  ...       awww bummer shoulda got david carr third day\n",
       "1  Negative  ...  upset update facebook texting might cry result...\n",
       "2  Negative  ...  dived many times ball managed save 50 rest go ...\n",
       "3  Negative  ...                   whole body feels itchy like fire\n",
       "4  Negative  ...                                   behaving mad see\n",
       "\n",
       "[5 rows x 6 columns]"
      ]
     },
     "execution_count": 8,
     "metadata": {
      "tags": []
     },
     "output_type": "execute_result"
    }
   ],
   "source": [
    "# Applying Cleaner\n",
    "data.text = data.text.apply(lambda x: cleaner(x))\n",
    "\n",
    "# Preview Data\n",
    "data.head()"
   ]
  },
  {
   "cell_type": "markdown",
   "metadata": {
    "id": "9BzMNSSb4W8r"
   },
   "source": [
    "### Splitting Dataset"
   ]
  },
  {
   "cell_type": "code",
   "execution_count": null,
   "metadata": {
    "colab": {
     "base_uri": "https://localhost:8080/"
    },
    "id": "koDKj5Te4dek",
    "outputId": "e25b5078-6f65-43d0-ed57-dc7b51841710"
   },
   "outputs": [
    {
     "name": "stdout",
     "output_type": "stream",
     "text": [
      "Training set size: 1280000\n",
      "Testing set size: 320000\n"
     ]
    }
   ],
   "source": [
    "from sklearn.model_selection import train_test_split\n",
    "\n",
    "trainData, testData = train_test_split(data, test_size=0.2, random_state=42)\n",
    "print(\"Training set size:\", len(trainData))\n",
    "print(\"Testing set size:\", len(testData))"
   ]
  },
  {
   "cell_type": "markdown",
   "metadata": {
    "id": "utvsoddo25Tr"
   },
   "source": [
    "### Tokenizing Text"
   ]
  },
  {
   "cell_type": "code",
   "execution_count": null,
   "metadata": {
    "colab": {
     "base_uri": "https://localhost:8080/"
    },
    "id": "hdHO-WaG2YDO",
    "outputId": "119fd8f8-1213-4c1b-baba-fddf8956495b"
   },
   "outputs": [
    {
     "name": "stdout",
     "output_type": "stream",
     "text": [
      "Total Unique Words:  290419\n"
     ]
    }
   ],
   "source": [
    "from keras.preprocessing.text import Tokenizer\n",
    "from keras.preprocessing.sequence import pad_sequences\n",
    "\n",
    "# Setting Up Tokenizer\n",
    "tokenizer = Tokenizer()\n",
    "tokenizer.fit_on_texts(trainData.text)\n",
    "print(\"Total Unique Words: \", len(tokenizer.word_index) + 1)"
   ]
  },
  {
   "cell_type": "code",
   "execution_count": null,
   "metadata": {
    "id": "6-Hor5_Y5-vc"
   },
   "outputs": [],
   "source": [
    "# Applying Tokenizer\n",
    "Max_Text_Length = 300\n",
    "\n",
    "x_train = pad_sequences(tokenizer.texts_to_sequences(trainData.text), maxlen=Max_Text_Length)\n",
    "x_test = pad_sequences(tokenizer.texts_to_sequences(testData.text), maxlen=Max_Text_Length)"
   ]
  },
  {
   "cell_type": "markdown",
   "metadata": {
    "id": "Dx6nPUTf64rp"
   },
   "source": [
    "### Encoding Labels"
   ]
  },
  {
   "cell_type": "code",
   "execution_count": null,
   "metadata": {
    "colab": {
     "base_uri": "https://localhost:8080/"
    },
    "id": "hjR-Js4j6hlw",
    "outputId": "20527bac-4b23-422d-adc6-79e2ec6ad790"
   },
   "outputs": [
    {
     "data": {
      "text/plain": [
       "LabelEncoder()"
      ]
     },
     "execution_count": 12,
     "metadata": {
      "tags": []
     },
     "output_type": "execute_result"
    }
   ],
   "source": [
    "from sklearn.preprocessing import LabelEncoder\n",
    "\n",
    "# Setting Up Label Encoder\n",
    "encoder = LabelEncoder()\n",
    "encoder.fit(trainData.target.tolist())"
   ]
  },
  {
   "cell_type": "code",
   "execution_count": null,
   "metadata": {
    "id": "ubw9idds7RDG"
   },
   "outputs": [],
   "source": [
    "# Applying Label Encoder\n",
    "y_train = encoder.transform(trainData.target.tolist())\n",
    "y_test = encoder.transform(testData.target.tolist())\n",
    "\n",
    "y_train = y_train.reshape(-1,1)\n",
    "y_test = y_test.reshape(-1,1)"
   ]
  },
  {
   "cell_type": "code",
   "execution_count": null,
   "metadata": {
    "colab": {
     "base_uri": "https://localhost:8080/"
    },
    "id": "FRfJeeQ87hcL",
    "outputId": "6d842553-797f-46b2-953d-6302cd1120cf"
   },
   "outputs": [
    {
     "name": "stdout",
     "output_type": "stream",
     "text": [
      "X Train Size:  (1280000, 300)\n",
      "Y Train Size:  (1280000, 1)\n",
      "X Test Size:  (320000, 300)\n",
      "Y Test Size:  (320000, 1)\n"
     ]
    }
   ],
   "source": [
    "# Checking Final Datasets\n",
    "print(\"X Train Size: \", x_train.shape)\n",
    "print(\"Y Train Size: \", y_train.shape)\n",
    "\n",
    "print(\"X Test Size: \", x_test.shape)\n",
    "print(\"Y Test Size: \", y_test.shape)"
   ]
  },
  {
   "cell_type": "markdown",
   "metadata": {
    "id": "hioy9fUn8DZj"
   },
   "source": [
    "## **3) Sentiment Analysis** using LSTM"
   ]
  },
  {
   "cell_type": "markdown",
   "metadata": {
    "id": "4hYTXAmV8NuS"
   },
   "source": [
    "### Embedding Layer using Word2Vec"
   ]
  },
  {
   "cell_type": "code",
   "execution_count": null,
   "metadata": {
    "id": "-8AY1Mj28Mne"
   },
   "outputs": [],
   "source": [
    "import gensim\n",
    "\n",
    "# Setting Up Word2Vec\n",
    "w2v_Size = 300\n",
    "w2v_Window = 7\n",
    "w2v_Epoch = 32\n",
    "w2v_Min_Count = 10\n",
    "\n",
    "# Defining Word2Vec Model\n",
    "w2v_model = gensim.models.word2vec.Word2Vec(size=w2v_Size, window=w2v_Window, min_count=w2v_Min_Count, workers=8)"
   ]
  },
  {
   "cell_type": "code",
   "execution_count": null,
   "metadata": {
    "colab": {
     "base_uri": "https://localhost:8080/"
    },
    "id": "EOdC2I7g88Ig",
    "outputId": "91b768ea-4bfd-4a36-96ef-648b6a82223b"
   },
   "outputs": [
    {
     "name": "stdout",
     "output_type": "stream",
     "text": [
      "Vocabulary Size:  30370\n"
     ]
    }
   ],
   "source": [
    "# Building Vocabulary\n",
    "documents = [text.split() for text in trainData.text] \n",
    "w2v_model.build_vocab(documents)\n",
    "print(\"Vocabulary Size: \", len(w2v_model.wv.vocab.keys()) + 1)"
   ]
  },
  {
   "cell_type": "code",
   "execution_count": null,
   "metadata": {
    "colab": {
     "base_uri": "https://localhost:8080/"
    },
    "id": "knopLTrL9NPm",
    "outputId": "2f744f7e-1f2a-43a9-9b78-c1602854f2f1"
   },
   "outputs": [
    {
     "data": {
      "text/plain": [
       "(229512522, 258305760)"
      ]
     },
     "execution_count": 33,
     "metadata": {
      "tags": []
     },
     "output_type": "execute_result"
    }
   ],
   "source": [
    "# Training Word2Vec Model\n",
    "w2v_model.train(documents, total_examples=len(documents), epochs=w2v_Epoch)"
   ]
  },
  {
   "cell_type": "code",
   "execution_count": null,
   "metadata": {
    "colab": {
     "base_uri": "https://localhost:8080/"
    },
    "id": "WwK6X_9I960z",
    "outputId": "7c1fdb95-f281-439c-b06e-178ebd554ed9"
   },
   "outputs": [
    {
     "name": "stderr",
     "output_type": "stream",
     "text": [
      "/usr/local/lib/python3.7/dist-packages/ipykernel_launcher.py:2: DeprecationWarning: Call to deprecated `most_similar` (Method will be removed in 4.0.0, use self.wv.most_similar() instead).\n",
      "  \n"
     ]
    },
    {
     "data": {
      "text/plain": [
       "[('die', 0.49132657051086426),\n",
       " ('cry', 0.3890700936317444),\n",
       " ('choke', 0.3856514096260071),\n",
       " ('steal', 0.368805468082428),\n",
       " ('save', 0.36556869745254517),\n",
       " ('scream', 0.3628593385219574),\n",
       " ('marry', 0.34182894229888916),\n",
       " ('stab', 0.33873501420021057),\n",
       " ('ruin', 0.3354349732398987),\n",
       " ('help', 0.324670672416687)]"
      ]
     },
     "execution_count": 20,
     "metadata": {
      "tags": []
     },
     "output_type": "execute_result"
    }
   ],
   "source": [
    "# Testing Sample\n",
    "w2v_model.most_similar(\"kill\")"
   ]
  },
  {
   "cell_type": "code",
   "execution_count": null,
   "metadata": {
    "colab": {
     "base_uri": "https://localhost:8080/"
    },
    "id": "NeSLjt5wBKE6",
    "outputId": "947eb723-695a-432e-cde6-01c3711b0dfe"
   },
   "outputs": [
    {
     "name": "stdout",
     "output_type": "stream",
     "text": [
      "(290419, 300)\n"
     ]
    }
   ],
   "source": [
    "from keras.layers import Embedding\n",
    "\n",
    "# Setting Up Embedding Layer\n",
    "vocab_size = len(tokenizer.word_index) + 1\n",
    "embedding_matrix = np.zeros((vocab_size, w2v_Size))\n",
    "\n",
    "for word, i in tokenizer.word_index.items():\n",
    "  if word in w2v_model.wv:\n",
    "    embedding_matrix[i] = w2v_model.wv[word]\n",
    "print(embedding_matrix.shape)\n",
    "\n",
    "embedding_layer = Embedding(vocab_size, w2v_Size, weights=[embedding_matrix], input_length=Max_Text_Length, trainable=False)"
   ]
  },
  {
   "cell_type": "markdown",
   "metadata": {
    "id": "Je9FDi7wCbp4"
   },
   "source": [
    "### Building and Compiling the Model"
   ]
  },
  {
   "cell_type": "code",
   "execution_count": null,
   "metadata": {
    "colab": {
     "base_uri": "https://localhost:8080/"
    },
    "id": "ZLXspBiYCeNo",
    "outputId": "64b9c0c8-a217-465a-804f-fed82083200b"
   },
   "outputs": [
    {
     "name": "stdout",
     "output_type": "stream",
     "text": [
      "Model: \"sequential\"\n",
      "_________________________________________________________________\n",
      "Layer (type)                 Output Shape              Param #   \n",
      "=================================================================\n",
      "embedding (Embedding)        (None, 300, 300)          87125700  \n",
      "_________________________________________________________________\n",
      "dropout (Dropout)            (None, 300, 300)          0         \n",
      "_________________________________________________________________\n",
      "lstm (LSTM)                  (None, 100)               160400    \n",
      "_________________________________________________________________\n",
      "dense (Dense)                (None, 1)                 101       \n",
      "=================================================================\n",
      "Total params: 87,286,201\n",
      "Trainable params: 160,501\n",
      "Non-trainable params: 87,125,700\n",
      "_________________________________________________________________\n",
      "None\n"
     ]
    }
   ],
   "source": [
    "from tensorflow import keras\n",
    "from keras.models import Sequential\n",
    "from keras.layers import Dense, Embedding, LSTM, Dropout\n",
    "\n",
    "# Defining Model Architecture\n",
    "lstmModel = Sequential()\n",
    "\n",
    "lstmModel.add(embedding_layer)\n",
    "lstmModel.add(Dropout(0.5))\n",
    "\n",
    "lstmModel.add(LSTM(100, dropout=0.2, recurrent_dropout=0.2))\n",
    "lstmModel.add(Dense(1, activation='sigmoid'))\n",
    "\n",
    "print(lstmModel.summary())"
   ]
  },
  {
   "cell_type": "code",
   "execution_count": null,
   "metadata": {
    "colab": {
     "base_uri": "https://localhost:8080/",
     "height": 533
    },
    "id": "bHjmtrOeF21p",
    "outputId": "e75f4346-bae6-4638-8a02-86a29c60d43c"
   },
   "outputs": [
    {
     "data": {
      "image/png": "[encoded data removed]",
      "text/plain": [
       "<IPython.core.display.Image object>"
      ]
     },
     "execution_count": 23,
     "metadata": {
      "tags": []
     },
     "output_type": "execute_result"
    }
   ],
   "source": [
    "from keras.utils.vis_utils import plot_model\n",
    "\n",
    "# Compiling the Model\n",
    "lstmModel.compile(loss='binary_crossentropy', optimizer=\"adam\", metrics=['accuracy'])\n",
    "\n",
    "# Plotting Model Architecture\n",
    "plot_model(lstmModel, to_file='model_plot.png', show_shapes=True, show_layer_names=True)"
   ]
  },
  {
   "cell_type": "markdown",
   "metadata": {
    "id": "tKgoMV62GuC_"
   },
   "source": [
    "### Training and Testing the Model"
   ]
  },
  {
   "cell_type": "code",
   "execution_count": null,
   "metadata": {
    "id": "T10B4XPUOo9d"
   },
   "outputs": [],
   "source": [
    "Batch_Size = 1024"
   ]
  },
  {
   "cell_type": "code",
   "execution_count": null,
   "metadata": {
    "id": "6As_HyKZGyke"
   },
   "outputs": [],
   "source": [
    "modelScore = lstmModel.fit(x_train, y_train, batch_size=Batch_Size, epochs=3, validation_split=0.1, verbose=1)"
   ]
  },
  {
   "cell_type": "code",
   "execution_count": null,
   "metadata": {
    "colab": {
     "base_uri": "https://localhost:8080/"
    },
    "id": "QwvmBy2lXRCz",
    "outputId": "c4bef3f6-f722-4be7-cc90-c669dcbdfea8"
   },
   "outputs": [
    {
     "name": "stdout",
     "output_type": "stream",
     "text": [
      "40/40 [==============================] - 1016s 25s/step\n"
     ]
    }
   ],
   "source": [
    "# Predicting the Test Data\n",
    "y_pred = lstmModel.predict(x_test, verbose=1, batch_size=8196)"
   ]
  },
  {
   "cell_type": "code",
   "execution_count": null,
   "metadata": {
    "id": "MqqXDodJTh4b"
   },
   "outputs": [],
   "source": [
    "# Deciding Sentiments on the predicted values\n",
    "y_pred = np.array([[1 if x > 0.5 else 0 for x in y ] for y in y_pred])"
   ]
  },
  {
   "cell_type": "code",
   "execution_count": null,
   "metadata": {
    "colab": {
     "base_uri": "https://localhost:8080/",
     "height": 295
    },
    "id": "71IJKLZcTnYD",
    "outputId": "22867418-bc11-4722-8191-ce103261e687"
   },
   "outputs": [
    {
     "data": {
      "image/png": "[encoded data removed]",
      "text/plain": [
       "<Figure size 432x288 with 2 Axes>"
      ]
     },
     "metadata": {
      "needs_background": "light",
      "tags": []
     },
     "output_type": "display_data"
    }
   ],
   "source": [
    "import seaborn as sn\n",
    "from sklearn.metrics import confusion_matrix\n",
    "\n",
    "# Confusion Matrix\n",
    "cm = confusion_matrix(y_test, y_pred)\n",
    "sn.heatmap(cm/np.sum(cm), annot=True, fmt='.2%', cmap='Blues')\n",
    "plt.xlabel(\"True Label\")\n",
    "plt.ylabel(\"Predicted Label\")\n",
    "plt.title('Confusion Matrix for LSTM Model')\n",
    "plt.show()"
   ]
  },
  {
   "cell_type": "code",
   "execution_count": null,
   "metadata": {
    "colab": {
     "base_uri": "https://localhost:8080/"
    },
    "id": "iO0ndMrdT8Zr",
    "outputId": "ef4f4f3e-046e-4833-d861-60e5003c9203"
   },
   "outputs": [
    {
     "name": "stdout",
     "output_type": "stream",
     "text": [
      "Accuracy: 0.747553125\n",
      "F1 Score: 0.7119532467347237\n",
      "AUC ROC: 0.7479514609179785\n"
     ]
    }
   ],
   "source": [
    "from sklearn.metrics import accuracy_score\n",
    "from sklearn.metrics import f1_score\n",
    "from sklearn.metrics import roc_auc_score\n",
    "from sklearn.metrics import log_loss\n",
    "\n",
    "# Performance Measures\n",
    "print(\"Accuracy:\", accuracy_score(y_test, y_pred))\n",
    "print(\"F1 Score:\", f1_score(y_test, y_pred))\n",
    "print(\"AUC ROC:\", roc_auc_score(y_test, y_pred))"
   ]
  },
  {
   "cell_type": "markdown",
   "metadata": {
    "id": "3KhnmEcUVd5W"
   },
   "source": [
    "## **4) Sentiment Analysis** using other models"
   ]
  },
  {
   "cell_type": "markdown",
   "metadata": {
    "id": "0qHKRc39VxK7"
   },
   "source": [
    "### Required Preprocessing "
   ]
  },
  {
   "cell_type": "code",
   "execution_count": null,
   "metadata": {
    "id": "x2tP3oAzV06i"
   },
   "outputs": [],
   "source": [
    "from sklearn.preprocessing import StandardScaler\n",
    "\n",
    "# Scaling the Data\n",
    "sc = StandardScaler()\n",
    "X_train = sc.fit_transform(x_train)\n",
    "X_test = sc.transform(x_test)"
   ]
  },
  {
   "cell_type": "code",
   "execution_count": null,
   "metadata": {
    "id": "M3z2ujp0V9jq"
   },
   "outputs": [],
   "source": [
    "# Reshaping the Data\n",
    "Y_train=y_train.reshape(-1)\n",
    "Y_test=y_test.reshape(-1)"
   ]
  },
  {
   "cell_type": "markdown",
   "metadata": {
    "id": "B6lkTXf8Vo5a"
   },
   "source": [
    "### Linear Regression Model"
   ]
  },
  {
   "cell_type": "code",
   "execution_count": null,
   "metadata": {
    "id": "2uwMmvMUVgsk"
   },
   "outputs": [],
   "source": [
    "from sklearn.linear_model import LogisticRegression\n",
    "\n",
    "# Defining Model\n",
    "model = LogisticRegression()\n",
    "\n",
    "# Training Model\n",
    "model.fit(X_train, Y_train)\n",
    "\n",
    "# Predicting Results\n",
    "y_pred = model.predict(X_test)"
   ]
  },
  {
   "cell_type": "code",
   "execution_count": null,
   "metadata": {
    "colab": {
     "base_uri": "https://localhost:8080/",
     "height": 295
    },
    "id": "UmQuDCnFVrad",
    "outputId": "4d05942c-733a-40ec-b812-3a2b5560b552"
   },
   "outputs": [
    {
     "data": {
      "image/png": "[encoded data removed]",
      "text/plain": [
       "<Figure size 432x288 with 2 Axes>"
      ]
     },
     "metadata": {
      "needs_background": "light",
      "tags": []
     },
     "output_type": "display_data"
    }
   ],
   "source": [
    "import seaborn as sn\n",
    "from sklearn.metrics import confusion_matrix\n",
    "\n",
    "# Confusion Matrix\n",
    "cm = confusion_matrix(Y_test, y_pred)\n",
    "sn.heatmap(cm/np.sum(cm), annot=True, fmt='.2%', cmap='Blues')\n",
    "plt.xlabel(\"True Label\")\n",
    "plt.ylabel(\"Predicted Label\")\n",
    "plt.title('Confusion Matrix for Logistic Regression Model')\n",
    "plt.show()"
   ]
  },
  {
   "cell_type": "code",
   "execution_count": null,
   "metadata": {
    "colab": {
     "base_uri": "https://localhost:8080/"
    },
    "id": "MINEmxG7WkEV",
    "outputId": "57219b9d-007e-4637-c5a3-353b6e47e85e"
   },
   "outputs": [
    {
     "name": "stdout",
     "output_type": "stream",
     "text": [
      "Accuracy: 0.50915625\n",
      "F1 Score: 0.24771301307533886\n",
      "AUC ROC: 0.5102604208998877\n"
     ]
    }
   ],
   "source": [
    "from sklearn.metrics import accuracy_score\n",
    "from sklearn.metrics import f1_score\n",
    "from sklearn.metrics import roc_auc_score\n",
    "from sklearn.metrics import log_loss\n",
    "\n",
    "# Performance Measures\n",
    "print(\"Accuracy:\", accuracy_score(Y_test, y_pred))\n",
    "print(\"F1 Score:\", f1_score(Y_test, y_pred))\n",
    "print(\"AUC ROC:\", roc_auc_score(Y_test, y_pred))"
   ]
  },
  {
   "cell_type": "markdown",
   "metadata": {
    "id": "oGzNHeJPYgjZ"
   },
   "source": [
    "### Decision Tree Classifier"
   ]
  },
  {
   "cell_type": "code",
   "execution_count": null,
   "metadata": {
    "id": "JCeu9FbZYfvJ"
   },
   "outputs": [],
   "source": [
    "from sklearn.tree import DecisionTreeClassifier\n",
    "\n",
    "# Defining Model\n",
    "model = DecisionTreeClassifier()\n",
    "\n",
    "# Training Model\n",
    "model.fit(X_train, Y_train)\n",
    "\n",
    "# Predicting Results\n",
    "y_pred = model.predict(X_test)"
   ]
  },
  {
   "cell_type": "code",
   "execution_count": null,
   "metadata": {
    "colab": {
     "base_uri": "https://localhost:8080/",
     "height": 295
    },
    "id": "Vl-k0RKKYt3L",
    "outputId": "aa036643-e526-4211-9f5d-a780586dbaaa"
   },
   "outputs": [
    {
     "data": {
      "image/png": "[encoded data removed]",
      "text/plain": [
       "<Figure size 432x288 with 2 Axes>"
      ]
     },
     "metadata": {
      "needs_background": "light",
      "tags": []
     },
     "output_type": "display_data"
    }
   ],
   "source": [
    "import seaborn as sn\n",
    "from sklearn.metrics import confusion_matrix\n",
    "\n",
    "# Confusion Matrix\n",
    "cm = confusion_matrix(Y_test, y_pred)\n",
    "sn.heatmap(cm/np.sum(cm), annot=True, fmt='.2%', cmap='Blues')\n",
    "plt.xlabel(\"True Label\")\n",
    "plt.ylabel(\"Predicted Label\")\n",
    "plt.title('Confusion Matrix for Decision Tree Classifier')\n",
    "plt.show()"
   ]
  },
  {
   "cell_type": "code",
   "execution_count": null,
   "metadata": {
    "colab": {
     "base_uri": "https://localhost:8080/"
    },
    "id": "O_Nh5fhsYvWk",
    "outputId": "6028e44e-d4ce-4ac6-d7e4-d80081f2e220"
   },
   "outputs": [
    {
     "name": "stdout",
     "output_type": "stream",
     "text": [
      "Accuracy: 0.599315625\n",
      "F1 Score: 0.5997296546384834\n",
      "AUC ROC: 0.599318347815332\n"
     ]
    }
   ],
   "source": [
    "from sklearn.metrics import accuracy_score\n",
    "from sklearn.metrics import f1_score\n",
    "from sklearn.metrics import roc_auc_score\n",
    "from sklearn.metrics import log_loss\n",
    "\n",
    "# Performance Measures\n",
    "print(\"Accuracy:\", accuracy_score(Y_test, y_pred))\n",
    "print(\"F1 Score:\", f1_score(Y_test, y_pred))\n",
    "print(\"AUC ROC:\", roc_auc_score(Y_test, y_pred))"
   ]
  },
  {
   "cell_type": "markdown",
   "metadata": {
    "id": "XVOh5XO1Y8qB"
   },
   "source": [
    "### Random Forest Classifier"
   ]
  },
  {
   "cell_type": "code",
   "execution_count": null,
   "metadata": {
    "id": "5flQCw9yY786"
   },
   "outputs": [],
   "source": [
    "from sklearn.ensemble import RandomForestClassifier\n",
    "\n",
    "# Defining Model\n",
    "model = RandomForestClassifier(max_depth=3)\n",
    "\n",
    "# Training Model\n",
    "model.fit(X_train, Y_train)\n",
    "\n",
    "# Predicting Results\n",
    "y_pred = model.predict(X_test)"
   ]
  },
  {
   "cell_type": "code",
   "execution_count": null,
   "metadata": {
    "colab": {
     "base_uri": "https://localhost:8080/",
     "height": 295
    },
    "id": "ckKYg0VJZBtL",
    "outputId": "f3b15f88-3836-4fd5-81b2-545b9479d50b"
   },
   "outputs": [
    {
     "data": {
      "image/png": "[encoded data removed]",
      "text/plain": [
       "<Figure size 432x288 with 2 Axes>"
      ]
     },
     "metadata": {
      "needs_background": "light",
      "tags": []
     },
     "output_type": "display_data"
    }
   ],
   "source": [
    "import seaborn as sn\n",
    "from sklearn.metrics import confusion_matrix\n",
    "\n",
    "# Confusion Matrix\n",
    "cm = confusion_matrix(Y_test, y_pred)\n",
    "sn.heatmap(cm/np.sum(cm), annot=True, fmt='.2%', cmap='Blues')\n",
    "plt.xlabel(\"True Label\")\n",
    "plt.ylabel(\"Predicted Label\")\n",
    "plt.title('Confusion Matrix for Random Forest Classifier')\n",
    "plt.show()"
   ]
  },
  {
   "cell_type": "code",
   "execution_count": null,
   "metadata": {
    "colab": {
     "base_uri": "https://localhost:8080/"
    },
    "id": "yLLMvGWwZDwK",
    "outputId": "50b6f2d5-6832-4ca6-e719-e1e876625318"
   },
   "outputs": [
    {
     "name": "stdout",
     "output_type": "stream",
     "text": [
      "Accuracy: 0.526034375\n",
      "F1 Score: 0.4943911618712351\n",
      "AUC ROC: 0.5262375612015711\n"
     ]
    }
   ],
   "source": [
    "from sklearn.metrics import accuracy_score\n",
    "from sklearn.metrics import f1_score\n",
    "from sklearn.metrics import roc_auc_score\n",
    "from sklearn.metrics import log_loss\n",
    "\n",
    "# Performance Measures\n",
    "print(\"Accuracy:\", accuracy_score(Y_test, y_pred))\n",
    "print(\"F1 Score:\", f1_score(Y_test, y_pred))\n",
    "print(\"AUC ROC:\", roc_auc_score(Y_test, y_pred))"
   ]
  },
  {
   "cell_type": "markdown",
   "metadata": {
    "id": "2Ym9yZbtZaGq"
   },
   "source": [
    "### Support Vector Classifier"
   ]
  },
  {
   "cell_type": "code",
   "execution_count": null,
   "metadata": {
    "id": "OK7IYWbZZeka"
   },
   "outputs": [],
   "source": [
    "from sklearn.svm import SVC\n",
    "\n",
    "# Defining Model\n",
    "model = SVC()\n",
    "\n",
    "# Training Model\n",
    "model.fit(X_train, Y_train)\n",
    "\n",
    "# Predicting Results\n",
    "y_pred = model.predict(X_test)"
   ]
  },
  {
   "cell_type": "code",
   "execution_count": null,
   "metadata": {
    "colab": {
     "base_uri": "https://localhost:8080/",
     "height": 295
    },
    "id": "NkYtd64QZdFi",
    "outputId": "41a49420-63c9-428d-e4a3-ea9028bf9781"
   },
   "outputs": [
    {
     "data": {
      "image/png": "[encoded data removed]",
      "text/plain": [
       "<Figure size 432x288 with 2 Axes>"
      ]
     },
     "metadata": {
      "needs_background": "light",
      "tags": []
     },
     "output_type": "display_data"
    }
   ],
   "source": [
    "import seaborn as sn\n",
    "from sklearn.metrics import confusion_matrix\n",
    "\n",
    "# Confusion Matrix\n",
    "cm = confusion_matrix(y_test, y_pred)\n",
    "sn.heatmap(cm/np.sum(cm), annot=True, fmt='.2%', cmap='Blues')\n",
    "plt.xlabel(\"True Label\")\n",
    "plt.ylabel(\"Predicted Label\")\n",
    "plt.title('Confusion Matrix for Support Vector Classifier')\n",
    "plt.show()"
   ]
  },
  {
   "cell_type": "code",
   "execution_count": null,
   "metadata": {
    "colab": {
     "base_uri": "https://localhost:8080/"
    },
    "id": "dvXHGPQ0ZZqC",
    "outputId": "6f75f9e2-a6cd-4645-f7ba-b5ddec591d86"
   },
   "outputs": [
    {
     "name": "stdout",
     "output_type": "stream",
     "text": [
      "Accuracy: 0.624059375\n",
      "F1 Score: 0.5940864659497724\n",
      "AUC ROC: 0.6242991398458817\n"
     ]
    }
   ],
   "source": [
    "from sklearn.metrics import accuracy_score\n",
    "from sklearn.metrics import f1_score\n",
    "from sklearn.metrics import roc_auc_score\n",
    "from sklearn.metrics import log_loss\n",
    "\n",
    "# Performance Measures\n",
    "print(\"Accuracy:\", accuracy_score(y_test, y_pred))\n",
    "print(\"F1 Score:\", f1_score(y_test, y_pred))\n",
    "print(\"AUC ROC:\", roc_auc_score(y_test, y_pred))"
   ]
  },
  {
   "cell_type": "markdown",
   "metadata": {
    "id": "iVxnxxkt_IVR"
   },
   "source": [
    "## **Others**"
   ]
  },
  {
   "cell_type": "markdown",
   "metadata": {
    "id": "D-fP9ubeChuI"
   },
   "source": [
    "### Tokenizer: Saving and Loading"
   ]
  },
  {
   "cell_type": "code",
   "execution_count": null,
   "metadata": {
    "id": "krUH6ewwClGq"
   },
   "outputs": [],
   "source": [
    "import pickle\n",
    "\n",
    "# Setting Up Path\n",
    "tokenizer_Path = '/content/gdrive/MyDrive/TSA/tokenizer.pkl'"
   ]
  },
  {
   "cell_type": "code",
   "execution_count": null,
   "metadata": {
    "id": "yx-wZxe6Cu9Q"
   },
   "outputs": [],
   "source": [
    "# Loading Tokenizer\n",
    "tokenizer = pickle.load(open(tokenizer_Path, \"rb\"))"
   ]
  },
  {
   "cell_type": "code",
   "execution_count": null,
   "metadata": {
    "id": "OyD1N6PYCsG4"
   },
   "outputs": [],
   "source": [
    "# Saving Tokenizer\n",
    "pickle.dump(tokenizer, open(tokenizer_Path, \"wb\"), protocol=0)"
   ]
  },
  {
   "cell_type": "markdown",
   "metadata": {
    "id": "PuTwi5MpDyzo"
   },
   "source": [
    "### Encoder: Saving and Loading"
   ]
  },
  {
   "cell_type": "code",
   "execution_count": null,
   "metadata": {
    "id": "ytFHkBFdD283"
   },
   "outputs": [],
   "source": [
    "import pickle\n",
    "\n",
    "# Setting Up Path\n",
    "encoder_Path = '/content/gdrive/MyDrive/TSA/encoder.pkl'"
   ]
  },
  {
   "cell_type": "code",
   "execution_count": null,
   "metadata": {
    "id": "F3vRT65QD9gH"
   },
   "outputs": [],
   "source": [
    "# Loading Encoder\n",
    "encoder = pickle.load(open(encoder_Path, \"rb\"))"
   ]
  },
  {
   "cell_type": "code",
   "execution_count": null,
   "metadata": {
    "id": "J8cN4PqdD9zz"
   },
   "outputs": [],
   "source": [
    "# Saving Encoder\n",
    "pickle.dump(encoder, open(encoder_Path, \"wb\"), protocol=0)"
   ]
  },
  {
   "cell_type": "markdown",
   "metadata": {
    "id": "4dVXV442_NaY"
   },
   "source": [
    "### Word2Vec: Saving and Loading"
   ]
  },
  {
   "cell_type": "code",
   "execution_count": null,
   "metadata": {
    "id": "9PSJdKF__qmo"
   },
   "outputs": [],
   "source": [
    "# Setting Up Path\n",
    "w2v_Path = '/content/gdrive/MyDrive/TSA/w2vModel.w2v'"
   ]
  },
  {
   "cell_type": "code",
   "execution_count": null,
   "metadata": {
    "id": "bMgFSu8q_7X5"
   },
   "outputs": [],
   "source": [
    "# Loading the Model\n",
    "w2v_model = gensim.models.Word2Vec.load(w2v_Path)"
   ]
  },
  {
   "cell_type": "code",
   "execution_count": null,
   "metadata": {
    "id": "iaRZq4_6_LB7"
   },
   "outputs": [],
   "source": [
    "# Saving the Model\n",
    "w2v_model.save(w2v_Path)"
   ]
  },
  {
   "cell_type": "markdown",
   "metadata": {
    "id": "yPa-6CNjEO9P"
   },
   "source": [
    "### LSTM Model: Saving and Loading"
   ]
  },
  {
   "cell_type": "code",
   "execution_count": null,
   "metadata": {
    "id": "mqDWVnobERwA"
   },
   "outputs": [],
   "source": [
    "# Setting Up Path\n",
    "lstm_Path = '/content/gdrive/MyDrive/TSA/lstmModel.h5'"
   ]
  },
  {
   "cell_type": "code",
   "execution_count": null,
   "metadata": {
    "id": "vI5-3_GFEaZE"
   },
   "outputs": [],
   "source": [
    "from tensorflow.keras.models import load_model\n",
    "\n",
    "# Loading the Model\n",
    "lstmModel = load_model(lstm_Path)"
   ]
  },
  {
   "cell_type": "code",
   "execution_count": null,
   "metadata": {
    "id": "jfRAMundEb-o"
   },
   "outputs": [],
   "source": [
    "# Saving the Model\n",
    "lstmModel.save_weights(lstm_Path)"
   ]
  }
 ],
 "metadata": {
  "colab": {
   "name": "Twitter Sentiment Analysis.ipynb",
   "provenance": []
  },
  "kernelspec": {
   "display_name": "Python 3",
   "language": "python",
   "name": "python3"
  },
  "language_info": {
   "codemirror_mode": {
    "name": "ipython",
    "version": 3
   },
   "file_extension": ".py",
   "mimetype": "text/x-python",
   "name": "python",
   "nbconvert_exporter": "python",
   "pygments_lexer": "ipython3",
   "version": "3.7.9"
  }
 },
 "nbformat": 4,
 "nbformat_minor": 1
}
